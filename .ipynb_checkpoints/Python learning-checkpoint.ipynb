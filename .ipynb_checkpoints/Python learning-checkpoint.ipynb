{
 "cells": [
  {
   "cell_type": "code",
   "execution_count": 11,
   "id": "86c24122-b094-4cd2-ae44-040d735cc64b",
   "metadata": {},
   "outputs": [
    {
     "name": "stdout",
     "output_type": "stream",
     "text": [
      "it's a even no 2\n",
      "it's a even no 6\n",
      "it's a even no 7\n",
      "it's a even no 45\n",
      "it's a even no 89\n",
      "it's a even no 1\n",
      "it's a even no 67\n",
      "it's a even no 455\n"
     ]
    }
   ],
   "source": [
    "a = [2,4,6,5,7,9,45,67,89,34,1,0,67,89,455,56]\n",
    "\n",
    "for i in range(len(a)):\n",
    "    if i%2 == 0:\n",
    "        print(f\"it's a even no {a[i]}\");\n",
    "    "
   ]
  },
  {
   "cell_type": "code",
   "execution_count": 5,
   "id": "e7a1dc38-8a64-47cf-8d0a-edb61305810d",
   "metadata": {},
   "outputs": [
    {
     "name": "stdin",
     "output_type": "stream",
     "text": [
      "Enter the start no:  12\n",
      "Enter the end no:  120\n"
     ]
    },
    {
     "name": "stdout",
     "output_type": "stream",
     "text": [
      "12\n",
      "24\n",
      "36\n",
      "48\n",
      "60\n",
      "72\n",
      "84\n",
      "96\n",
      "108\n",
      "120\n",
      "total no is: 0\n"
     ]
    }
   ],
   "source": [
    "start_nu = int(input(\"Enter the start no: \"))\n",
    "end_nu = int(input(\"Enter the end no: \"))\n",
    "\n",
    "total_sum = 0\n",
    "for number in range(start_nu, end_nu +1,12):\n",
    "    print(number)\n",
    "    \n",
    "print(\"total no is:\", total_sum)"
   ]
  },
  {
   "cell_type": "code",
   "execution_count": 1,
   "id": "693f40c9-ba78-4e53-a276-dd9396a0b345",
   "metadata": {},
   "outputs": [
    {
     "name": "stdin",
     "output_type": "stream",
     "text": [
      "start value: 12\n",
      "end value: 10\n"
     ]
    },
    {
     "name": "stdout",
     "output_type": "stream",
     "text": [
      "0\n"
     ]
    }
   ],
   "source": [
    "a = int(input(\"start value:\"))\n",
    "b = int(input(\"end value:\"))\n",
    "\n",
    "table = 0\n",
    "for i in range(a, b +1):\n",
    "    table = a * b\n",
    "\n",
    "print(table)\n"
   ]
  },
  {
   "cell_type": "code",
   "execution_count": 2,
   "id": "c488d721-1f64-44cd-b98c-8171f2dc0bd4",
   "metadata": {},
   "outputs": [
    {
     "name": "stdin",
     "output_type": "stream",
     "text": [
      "enter the name: nagesh\n"
     ]
    },
    {
     "name": "stdout",
     "output_type": "stream",
     "text": [
      "n\n",
      "a\n",
      "g\n"
     ]
    }
   ],
   "source": [
    "a = input(\"enter the name:\")\n",
    "\n",
    "h = len(a) // 2\n",
    "\n",
    "for i in range(h):\n",
    "    conv = a[i]\n",
    "    print(conv)\n"
   ]
  },
  {
   "cell_type": "code",
   "execution_count": 1,
   "id": "b32a7372-f2d1-4f41-abfb-48b2945798aa",
   "metadata": {},
   "outputs": [
    {
     "name": "stdin",
     "output_type": "stream",
     "text": [
      "enter the first 5 digits of no: Hjsbs\n"
     ]
    },
    {
     "name": "stdout",
     "output_type": "stream",
     "text": [
      "0\n",
      "1\n",
      "2\n",
      "3\n",
      "4\n"
     ]
    }
   ],
   "source": [
    "f = input(\"enter the first 5 digits of no:\")\n",
    "\n",
    "for i in range(len(f)):\n",
    "    print(i)"
   ]
  },
  {
   "cell_type": "code",
   "execution_count": 10,
   "id": "75fe421f-1a67-41b9-83fa-967ea93302bc",
   "metadata": {},
   "outputs": [
    {
     "name": "stdout",
     "output_type": "stream",
     "text": [
      "11\n",
      "10\n",
      "2\n",
      "1\n",
      "0\n",
      "3\n",
      "True\n",
      "True\n"
     ]
    }
   ],
   "source": [
    "# operators \n",
    "a = True + 10\n",
    "b = False + 10\n",
    "\n",
    "print(a)\n",
    "print(b)\n",
    "\n",
    "a = 5 // 2\n",
    "b = 5 % 2\n",
    "print(a)\n",
    "print(b)\n",
    "\n",
    "print(a & b)\n",
    "print(a | b)\n",
    "\n",
    "print('s' in 'solapi')\n",
    "print(1 in [2,3,4,6,1])"
   ]
  },
  {
   "cell_type": "code",
   "execution_count": 7,
   "id": "ae44a6f8-4266-46dc-81db-7912b344bd68",
   "metadata": {},
   "outputs": [
    {
     "name": "stdin",
     "output_type": "stream",
     "text": [
      "pls enetr your email id nageshrathodiot@gmail.com\n",
      "pls enter your password 1789\n"
     ]
    },
    {
     "name": "stdout",
     "output_type": "stream",
     "text": [
      "wrong password\n"
     ]
    },
    {
     "name": "stdin",
     "output_type": "stream",
     "text": [
      "enter passwd again 12345\n"
     ]
    },
    {
     "name": "stdout",
     "output_type": "stream",
     "text": [
      " finally you got it\n"
     ]
    }
   ],
   "source": [
    "# if else\n",
    "\n",
    "user = input(\"pls enetr your email id\")\n",
    "passwd = input(\"pls enter your password\")\n",
    "\n",
    "if user == \"nageshrathodiot@gmail.com\" and passwd == \"12345\":\n",
    "    print(\"got it\")\n",
    "\n",
    "elif user == \"nageshrathodiot@gmail.com\" and passwd != \"12345\":\n",
    "    print(\"wrong password\")\n",
    "    passwd = input(\"enter passwd again\")\n",
    "    if passwd == \"12345\":\n",
    "        print(\" finally you got it\")\n",
    "    else:\n",
    "        print(\"you are dum\")\n",
    "\n",
    "else:\n",
    "    print(\"not allowed\")\n"
   ]
  },
  {
   "cell_type": "code",
   "execution_count": 1,
   "id": "861d9c5f-3456-48c6-9c2c-47432f8a8b5f",
   "metadata": {},
   "outputs": [
    {
     "name": "stdin",
     "output_type": "stream",
     "text": [
      "pls enter the 1st no 55\n",
      "pls enter the 2nd no 78\n",
      "pls enter the 3rd smallest no 11\n"
     ]
    },
    {
     "name": "stdout",
     "output_type": "stream",
     "text": [
      "c is a smallest no\n"
     ]
    }
   ],
   "source": [
    "# find the smallest no\n",
    "a = input(\"pls enter the 1st no\")\n",
    "b = input (\"pls enter the 2nd no\")\n",
    "c = input (\"pls enter the 3rd no)\n",
    "\n",
    "\n",
    "if a<b and a<c:\n",
    "    print(\"a is a smallest no\")\n",
    "elif b<c:\n",
    "    print(\"b is smallest no\")\n",
    "else:\n",
    "    print(\"c is a smallest no\")"
   ]
  },
  {
   "cell_type": "code",
   "execution_count": 4,
   "id": "add57057-eed6-44f8-bd93-bce623e33da9",
   "metadata": {},
   "outputs": [
    {
     "name": "stdout",
     "output_type": "stream",
     "text": [
      "5\n",
      "6\n",
      "7\n",
      "8\n",
      "9\n",
      "10\n",
      "11\n",
      "12\n",
      "13\n",
      "14\n",
      "15\n",
      "16\n",
      "17\n",
      "18\n",
      "19\n",
      "20\n",
      "21\n",
      "limit crossed\n"
     ]
    }
   ],
   "source": [
    "# while loop\n",
    "x = 5\n",
    "\n",
    "while x < 22:\n",
    "    print(x)\n",
    "    x += 1\n",
    "else:\n",
    "    print('limit crossed')"
   ]
  },
  {
   "cell_type": "code",
   "execution_count": 6,
   "id": "60d33d62-7df2-438f-b3de-12d8c9ffada0",
   "metadata": {},
   "outputs": [
    {
     "name": "stdin",
     "output_type": "stream",
     "text": [
      "enter the value of gurss 99\n"
     ]
    },
    {
     "name": "stdout",
     "output_type": "stream",
     "text": [
      "guess the lower\n"
     ]
    },
    {
     "name": "stdin",
     "output_type": "stream",
     "text": [
      "guess the value 70\n"
     ]
    },
    {
     "name": "stdout",
     "output_type": "stream",
     "text": [
      "guess the higher\n"
     ]
    },
    {
     "name": "stdin",
     "output_type": "stream",
     "text": [
      "guess the value 80\n"
     ]
    },
    {
     "name": "stdout",
     "output_type": "stream",
     "text": [
      "guess the higher\n"
     ]
    },
    {
     "name": "stdin",
     "output_type": "stream",
     "text": [
      "guess the value 90\n"
     ]
    },
    {
     "name": "stdout",
     "output_type": "stream",
     "text": [
      "guess the higher\n"
     ]
    },
    {
     "name": "stdin",
     "output_type": "stream",
     "text": [
      "guess the value 95\n"
     ]
    },
    {
     "name": "stdout",
     "output_type": "stream",
     "text": [
      "guess the lower\n"
     ]
    },
    {
     "name": "stdin",
     "output_type": "stream",
     "text": [
      "guess the value 94\n"
     ]
    },
    {
     "name": "stdout",
     "output_type": "stream",
     "text": [
      "guess the lower\n"
     ]
    },
    {
     "name": "stdin",
     "output_type": "stream",
     "text": [
      "guess the value 92\n"
     ]
    },
    {
     "name": "stdout",
     "output_type": "stream",
     "text": [
      "correct guess\n",
      "your attempt no 7\n"
     ]
    }
   ],
   "source": [
    "# while else scenario based \n",
    "import random \n",
    "\n",
    "jackpot = random.randint(1,100)\n",
    "guess = int(input(\"enter the value of gurss\"))\n",
    "\n",
    "counter = 1\n",
    "\n",
    "while guess != jackpot:\n",
    "    if guess < jackpot:\n",
    "        print(\"guess the higher\")\n",
    "    elif guess > jackpot:\n",
    "        print(\"guess the lower\")\n",
    "    else:\n",
    "        print(\"you ented the wrong option\")\n",
    "\n",
    "    guess = int(input('guess the value'))\n",
    "    counter += 1\n",
    "\n",
    "else:\n",
    "    print('correct guess')\n",
    "    print('your attempt no' ,counter)\n",
    "                      \n"
   ]
  },
  {
   "cell_type": "code",
   "execution_count": 1,
   "id": "51f93771-bb3b-4042-bc69-c2c4a6adf962",
   "metadata": {},
   "outputs": [
    {
     "name": "stdout",
     "output_type": "stream",
     "text": [
      "hi\n"
     ]
    }
   ],
   "source": [
    "print(\"hi\")"
   ]
  },
  {
   "cell_type": "code",
   "execution_count": null,
   "id": "08d7ad96-1d4d-445a-9de3-02da2ca67f50",
   "metadata": {},
   "outputs": [],
   "source": []
  }
 ],
 "metadata": {
  "kernelspec": {
   "display_name": "Python 3 (ipykernel)",
   "language": "python",
   "name": "python3"
  },
  "language_info": {
   "codemirror_mode": {
    "name": "ipython",
    "version": 3
   },
   "file_extension": ".py",
   "mimetype": "text/x-python",
   "name": "python",
   "nbconvert_exporter": "python",
   "pygments_lexer": "ipython3",
   "version": "3.12.1"
  }
 },
 "nbformat": 4,
 "nbformat_minor": 5
}
